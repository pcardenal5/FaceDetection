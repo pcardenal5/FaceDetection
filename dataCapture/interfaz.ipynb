{
 "cells": [
  {
   "cell_type": "code",
   "execution_count": 3,
   "metadata": {},
   "outputs": [],
   "source": [
    "import PySimpleGUI as sg\n",
    "import cv2\n",
    "import os"
   ]
  },
  {
   "cell_type": "code",
   "execution_count": 4,
   "metadata": {},
   "outputs": [],
   "source": [
    "def rectangle(frame):\n",
    "    y, x, _ = frame.shape\n",
    "    h = 112\n",
    "    w = 112\n",
    "    startY = int((y-h)/2)\n",
    "    endY = int((y+h)/2)\n",
    "    startX = int((x-w)/2)\n",
    "    endX = int((x+w)/2)\n",
    "    color = (255,0,0)\n",
    "    thickness = 2\n",
    "    cv2.rectangle(frame,(startX-10, startY-10), (endX+10,endY+10), color, thickness)\n",
    "    return frame"
   ]
  },
  {
   "cell_type": "code",
   "execution_count": 7,
   "metadata": {},
   "outputs": [],
   "source": [
    "def main():\n",
    "    sg.theme(\"dark grey 9\")\n",
    "\n",
    "    BORDER_COLOR = '#C7D5E0'\n",
    "    DARK_HEADER_COLOR = '#1B2838'\n",
    "    BPAD = ((20,10), (20, 10))\n",
    "    BPAD = ((20,10), (20, 10))\n",
    "\n",
    "    cont = 0\n",
    "\n",
    "    top_banner = [[sg.Text('Reconocimiento Facial'+ ' '*60, font='Any 20', background_color=DARK_HEADER_COLOR),\n",
    "               sg.Text('Nombres', font='Any 20', background_color=DARK_HEADER_COLOR)]]\n",
    "    \n",
    "    camera = [[sg.Text('Camera', font='Any 10', background_color=DARK_HEADER_COLOR)],\n",
    "            [sg.Image(filename=\"\", key=\"camara\")]]\n",
    "    \n",
    "    block = [[sg.Text('Categorías:', font='Any 10')],\n",
    "             [sg.T('A: No hay ninguna cara', pad=(10,30))],\n",
    "             [sg.T('B: Hay cara pero no es reconocida', pad=(10,30))],\n",
    "             [sg.T('C: Aparece la cara de Pablo', pad=(10,30))],\n",
    "             [sg.T('D: Aparece la cara de Juan', pad=(10,30))],\n",
    "             [sg.T('E: Aparece la cara de Juanmi', pad=(10,30))],\n",
    "             [sg.T('', key='aaa', pad=(10,30))]]\n",
    "    \n",
    "    # Define the window layout\n",
    "    layout = [\n",
    "        [sg.Column(top_banner, size=(1350, 50), pad=(5,5), background_color=DARK_HEADER_COLOR)],\n",
    "        [sg.Column(camera, size=(650,530),pad=BPAD, background_color=BORDER_COLOR),\n",
    "         sg.Column(block, size=(650,530), pad=BPAD, background_color=BORDER_COLOR)]\n",
    "    ]\n",
    "\n",
    "    # Create the window and show it without the plot\n",
    "    window = sg.Window(\"OpenCV Integration\", layout, location=(250, 200))\n",
    "\n",
    "    cap = cv2.VideoCapture(0) # 0 = default camera\n",
    "\n",
    "    while True:\n",
    "        cont += 1\n",
    "\n",
    "        event, values = window.read(timeout=10)\n",
    "        if event == \"Exit\" or event == sg.WIN_CLOSED:\n",
    "            break\n",
    "\n",
    "        \n",
    "        ret, frame = cap.read()\n",
    "\n",
    "        frame = rectangle(frame)\n",
    "        imgbytes = cv2.imencode(\".png\", frame)[1].tobytes()\n",
    "        window[\"camara\"].update(data=imgbytes)\n",
    "        window['aaa'].update(cont)\n",
    "\n",
    "    window.close()\n"
   ]
  },
  {
   "cell_type": "code",
   "execution_count": null,
   "metadata": {},
   "outputs": [],
   "source": [
    "if __name__ == '__main__':\n",
    "    main()\n"
   ]
  }
 ],
 "metadata": {
  "kernelspec": {
   "display_name": "D_N_E",
   "language": "python",
   "name": "python3"
  },
  "language_info": {
   "codemirror_mode": {
    "name": "ipython",
    "version": 3
   },
   "file_extension": ".py",
   "mimetype": "text/x-python",
   "name": "python",
   "nbconvert_exporter": "python",
   "pygments_lexer": "ipython3",
   "version": "3.9.13"
  },
  "orig_nbformat": 4
 },
 "nbformat": 4,
 "nbformat_minor": 2
}
