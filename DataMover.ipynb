{
 "cells": [
  {
   "cell_type": "code",
   "execution_count": 1,
   "metadata": {},
   "outputs": [],
   "source": [
    "import os\n",
    "import shutil"
   ]
  },
  {
   "cell_type": "code",
   "execution_count": 4,
   "metadata": {},
   "outputs": [],
   "source": [
    "#Este path es el del disco duro de Pablo, cambiad acorde a vuestras necesidades.\n",
    "dataPath = 'E:\\\\DatosMBD\\\\FaceDetectionData\\\\'      #En este están todas las imágenes en sus respectivos directorios\n",
    "dataJoinPath = 'E:\\\\DatosMBD\\\\FaceDetectionDataFull\\\\'  #En este se guardarán todas las imágenes a cholón\n",
    "k = 0\n",
    "\n",
    "for dir in os.listdir(dataPath):\n",
    "    dataDir = os.path.join(dataPath, dir)\n",
    "    for ddir in os.listdir(dataDir):\n",
    "        src = os.path.join(dataDir, ddir)\n",
    "        dst = os.path.join(dataJoinPath, f'Cara{k}.jpg')\n",
    "        shutil.move(src, dst)\n",
    "        k+=1"
   ]
  }
 ],
 "metadata": {
  "kernelspec": {
   "display_name": "NoEstruc",
   "language": "python",
   "name": "python3"
  },
  "language_info": {
   "codemirror_mode": {
    "name": "ipython",
    "version": 3
   },
   "file_extension": ".py",
   "mimetype": "text/x-python",
   "name": "python",
   "nbconvert_exporter": "python",
   "pygments_lexer": "ipython3",
   "version": "3.9.13"
  },
  "orig_nbformat": 4
 },
 "nbformat": 4,
 "nbformat_minor": 2
}
