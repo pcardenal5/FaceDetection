{
 "cells": [
  {
   "cell_type": "code",
   "execution_count": 24,
   "metadata": {},
   "outputs": [],
   "source": [
    "import json\n",
    "import tensorflow as tf\n",
    "from keras.preprocessing.image import ImageDataGenerator\n",
    "from keras.preprocessing import image\n",
    "import numpy as np\n",
    "import matplotlib.pyplot as plt\n",
    "from results import Results"
   ]
  },
  {
   "cell_type": "code",
   "execution_count": 25,
   "metadata": {},
   "outputs": [],
   "source": [
    "targetSizeWidth = 112\n",
    "targetSizeHeight = 112\n",
    "targetSize = (targetSizeWidth, targetSizeHeight)\n",
    "batchSize = 32\n",
    "directory_filename='C:/Users/juano/Documents/Master MBD/Segundo_Cuatrimestre/Datos no estructurados/RepoGit/FaceDetection/TRModel'\n",
    "testDirectory='./test'"
   ]
  },
  {
   "cell_type": "code",
   "execution_count": 26,
   "metadata": {},
   "outputs": [],
   "source": [
    "def load(filename: str):\n",
    "    \"\"\"Loads a trained CNN model and the corresponding preprocessing information.\n",
    "\n",
    "    Args:\n",
    "        filename: Relative path to the file without the extension.\n",
    "\n",
    "    \"\"\"\n",
    "    # Load Keras model\n",
    "    model = tf.keras.models.load_model(filename + '.h5')\n",
    "\n",
    "    # Load base model information\n",
    "    with open(filename + '.json') as f:\n",
    "        model_name = json.load(f)\n",
    "    return model\n",
    "\n",
    "cnn=load(directory_filename)"
   ]
  },
  {
   "cell_type": "code",
   "execution_count": 27,
   "metadata": {},
   "outputs": [],
   "source": [
    "def predict(model,test_dir,dataset_name:str, save: bool = True):\n",
    "    \"\"\"Evaluates a new set of images using the trained CNN.\n",
    "\n",
    "    Args:\n",
    "        test_dir: Relative path to the validation directory (e.g., 'dataset/test').\n",
    "        dataset_name: Dataset descriptive name.\n",
    "        save: Save results to an Excel file.\n",
    "\n",
    "    \"\"\"\n",
    "    # Configure loading and pre-processing functions\n",
    "    print('Reading test data...')\n",
    "    test_datagen = ImageDataGenerator(rescale=1./255)\n",
    "\n",
    "    test_generator = test_datagen.flow_from_directory(\n",
    "        './test',\n",
    "        target_size = targetSize,\n",
    "        batch_size=1,  # A batch size of 1 ensures that all test images are processed\n",
    "        class_mode='categorical',\n",
    "        shuffle=False\n",
    "    )\n",
    "\n",
    "    # Predict categories\n",
    "    predictions =model.predict(test_generator)\n",
    "    predicted_labels = np.argmax(predictions, axis=1).ravel().tolist()\n",
    "    print(type(test_generator.class_indices))\n",
    "   \n",
    "    # Format results and compute classification statistics\n",
    "    results = Results(test_generator.class_indices, dataset_name=dataset_name)\n",
    "    accuracy, confusion_matrix, classification = results.compute(test_generator.filenames, test_generator.classes,\n",
    "                                                                     predicted_labels)\n",
    "    # Display and save results\n",
    "    results.print(accuracy, confusion_matrix)\n",
    "\n",
    "    # if save:\n",
    "    #     results.save(confusion_matrix, classification, predictions)"
   ]
  },
  {
   "cell_type": "code",
   "execution_count": 28,
   "metadata": {},
   "outputs": [
    {
     "name": "stdout",
     "output_type": "stream",
     "text": [
      "Reading test data...\n",
      "Found 580 images belonging to 3 classes.\n",
      "580/580 [==============================] - 3s 6ms/step\n",
      "<class 'dict'>\n",
      "\n",
      "\n",
      "CLASSIFICATION RESULTS (VALIDATION)\n",
      "\n",
      "Confusion matrix\n",
      "\n",
      "KNOWN/PREDICTED  JuanM  JuanO  Pablo\n",
      "JuanM            462.0    0.0    0.0\n",
      "JuanO             71.0    0.0    0.0\n",
      "Pablo             47.0    0.0    0.0\n",
      "\n",
      "Accuracy:  0.7965517241379311\n"
     ]
    }
   ],
   "source": [
    "predict(cnn,testDirectory,'Validation')"
   ]
  },
  {
   "cell_type": "code",
   "execution_count": null,
   "metadata": {},
   "outputs": [],
   "source": []
  }
 ],
 "metadata": {
  "kernelspec": {
   "display_name": "DtNoStructENV",
   "language": "python",
   "name": "python3"
  },
  "language_info": {
   "codemirror_mode": {
    "name": "ipython",
    "version": 3
   },
   "file_extension": ".py",
   "mimetype": "text/x-python",
   "name": "python",
   "nbconvert_exporter": "python",
   "pygments_lexer": "ipython3",
   "version": "3.10.10"
  },
  "orig_nbformat": 4
 },
 "nbformat": 4,
 "nbformat_minor": 2
}
