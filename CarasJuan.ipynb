{
 "cells": [
  {
   "cell_type": "code",
   "execution_count": 1,
   "metadata": {},
   "outputs": [],
   "source": [
    "import cv2\n",
    "\n",
    "cv2.namedWindow(\"Camara Frontal\")\n",
    "vc = cv2.VideoCapture(0)\n",
    "\n",
    "if vc.isOpened(): # try to get the first frame\n",
    "    rval, frame = vc.read()\n",
    "else:\n",
    "    rval = False\n",
    "\n",
    "while rval:\n",
    "    cv2.imshow(\"Camara Frontal\", frame)\n",
    "    rval, frame = vc.read()\n",
    "    key = cv2.waitKey(20)\n",
    "    if key == 27: # exit on ESC\n",
    "        break\n",
    "\n",
    "cv2.destroyWindow(\"Camara Frontal\")\n",
    "vc.release()"
   ]
  },
  {
   "cell_type": "code",
   "execution_count": 2,
   "metadata": {},
   "outputs": [
    {
     "ename": "ModuleNotFoundError",
     "evalue": "No module named 'PySimpleGUI'",
     "output_type": "error",
     "traceback": [
      "\u001b[1;31m---------------------------------------------------------------------------\u001b[0m",
      "\u001b[1;31mModuleNotFoundError\u001b[0m                       Traceback (most recent call last)",
      "\u001b[1;32mc:\\Users\\juano\\Documents\\Master MBD\\Segundo_Cuatrimestre\\Datos no estructurados\\RepoGit\\FaceDetection\\CarasJuan.ipynb Cell 2\u001b[0m in \u001b[0;36m<cell line: 1>\u001b[1;34m()\u001b[0m\n\u001b[1;32m----> <a href='vscode-notebook-cell:/c%3A/Users/juano/Documents/Master%20MBD/Segundo_Cuatrimestre/Datos%20no%20estructurados/RepoGit/FaceDetection/CarasJuan.ipynb#W1sZmlsZQ%3D%3D?line=0'>1</a>\u001b[0m \u001b[39mimport\u001b[39;00m \u001b[39mPySimpleGUI\u001b[39;00m \u001b[39mas\u001b[39;00m \u001b[39msg\u001b[39;00m\n\u001b[0;32m      <a href='vscode-notebook-cell:/c%3A/Users/juano/Documents/Master%20MBD/Segundo_Cuatrimestre/Datos%20no%20estructurados/RepoGit/FaceDetection/CarasJuan.ipynb#W1sZmlsZQ%3D%3D?line=2'>3</a>\u001b[0m theme_dict \u001b[39m=\u001b[39m {\u001b[39m'\u001b[39m\u001b[39mBACKGROUND\u001b[39m\u001b[39m'\u001b[39m: \u001b[39m'\u001b[39m\u001b[39m#2B475D\u001b[39m\u001b[39m'\u001b[39m,\n\u001b[0;32m      <a href='vscode-notebook-cell:/c%3A/Users/juano/Documents/Master%20MBD/Segundo_Cuatrimestre/Datos%20no%20estructurados/RepoGit/FaceDetection/CarasJuan.ipynb#W1sZmlsZQ%3D%3D?line=3'>4</a>\u001b[0m                 \u001b[39m'\u001b[39m\u001b[39mTEXT\u001b[39m\u001b[39m'\u001b[39m: \u001b[39m'\u001b[39m\u001b[39m#FFFFFF\u001b[39m\u001b[39m'\u001b[39m,\n\u001b[0;32m      <a href='vscode-notebook-cell:/c%3A/Users/juano/Documents/Master%20MBD/Segundo_Cuatrimestre/Datos%20no%20estructurados/RepoGit/FaceDetection/CarasJuan.ipynb#W1sZmlsZQ%3D%3D?line=4'>5</a>\u001b[0m                 \u001b[39m'\u001b[39m\u001b[39mINPUT\u001b[39m\u001b[39m'\u001b[39m: \u001b[39m'\u001b[39m\u001b[39m#F2EFE8\u001b[39m\u001b[39m'\u001b[39m,\n\u001b[1;32m   (...)\u001b[0m\n\u001b[0;32m      <a href='vscode-notebook-cell:/c%3A/Users/juano/Documents/Master%20MBD/Segundo_Cuatrimestre/Datos%20no%20estructurados/RepoGit/FaceDetection/CarasJuan.ipynb#W1sZmlsZQ%3D%3D?line=8'>9</a>\u001b[0m                 \u001b[39m'\u001b[39m\u001b[39mPROGRESS\u001b[39m\u001b[39m'\u001b[39m: (\u001b[39m'\u001b[39m\u001b[39m#FFFFFF\u001b[39m\u001b[39m'\u001b[39m, \u001b[39m'\u001b[39m\u001b[39m#C7D5E0\u001b[39m\u001b[39m'\u001b[39m),\n\u001b[0;32m     <a href='vscode-notebook-cell:/c%3A/Users/juano/Documents/Master%20MBD/Segundo_Cuatrimestre/Datos%20no%20estructurados/RepoGit/FaceDetection/CarasJuan.ipynb#W1sZmlsZQ%3D%3D?line=9'>10</a>\u001b[0m                 \u001b[39m'\u001b[39m\u001b[39mBORDER\u001b[39m\u001b[39m'\u001b[39m: \u001b[39m1\u001b[39m,\u001b[39m'\u001b[39m\u001b[39mSLIDER_DEPTH\u001b[39m\u001b[39m'\u001b[39m: \u001b[39m0\u001b[39m, \u001b[39m'\u001b[39m\u001b[39mPROGRESS_DEPTH\u001b[39m\u001b[39m'\u001b[39m: \u001b[39m0\u001b[39m}\n\u001b[0;32m     <a href='vscode-notebook-cell:/c%3A/Users/juano/Documents/Master%20MBD/Segundo_Cuatrimestre/Datos%20no%20estructurados/RepoGit/FaceDetection/CarasJuan.ipynb#W1sZmlsZQ%3D%3D?line=11'>12</a>\u001b[0m \u001b[39m# sg.theme_add_new('Dashboard', theme_dict)     # if using 4.20.0.1+\u001b[39;00m\n",
      "\u001b[1;31mModuleNotFoundError\u001b[0m: No module named 'PySimpleGUI'"
     ]
    }
   ],
   "source": [
    "import PySimpleGUI as sg\n",
    "\n",
    "theme_dict = {'BACKGROUND': '#2B475D',\n",
    "                'TEXT': '#FFFFFF',\n",
    "                'INPUT': '#F2EFE8',\n",
    "                'TEXT_INPUT': '#000000',\n",
    "                'SCROLL': '#F2EFE8',\n",
    "                'BUTTON': ('#000000', '#C2D4D8'),\n",
    "                'PROGRESS': ('#FFFFFF', '#C7D5E0'),\n",
    "                'BORDER': 1,'SLIDER_DEPTH': 0, 'PROGRESS_DEPTH': 0}\n",
    "\n",
    "# sg.theme_add_new('Dashboard', theme_dict)     # if using 4.20.0.1+\n",
    "sg.LOOK_AND_FEEL_TABLE['Dashboard'] = theme_dict\n",
    "sg.theme('Dashboard')\n",
    "\n",
    "BORDER_COLOR = '#C7D5E0'\n",
    "DARK_HEADER_COLOR = '#1B2838'\n",
    "BPAD_TOP = ((20,20), (20, 10))\n",
    "BPAD_LEFT = ((20,10), (0, 10))\n",
    "BPAD_LEFT_INSIDE = (0, 10)\n",
    "BPAD_RIGHT = ((10,20), (10, 20))\n",
    "\n",
    "top_banner = [[sg.Text('Dashboard'+ ' '*64, font='Any 20', background_color=DARK_HEADER_COLOR),\n",
    "               sg.Text('Tuesday 9 June 2020', font='Any 20', background_color=DARK_HEADER_COLOR)]]\n",
    "\n",
    "top  = [[sg.Text('The Weather Will Go Here', size=(50,1), justification='c', pad=BPAD_TOP, font='Any 20')],\n",
    "            [sg.T(f'{i*25}-{i*34}') for i in range(7)],]\n",
    "\n",
    "block_3 = [[sg.Text('Block 3', font='Any 20')],\n",
    "            [sg.Input(), sg.Text('Some Text')],\n",
    "            [sg.Button('Go'), sg.Button('Exit')]  ]\n",
    "\n",
    "\n",
    "block_2 = [[sg.Text('Block 2', font='Any 20')],\n",
    "            [sg.T('This is some random text')],\n",
    "            [sg.Image(data=sg.DEFAULT_BASE64_ICON)]  ]\n",
    "\n",
    "block_4 = [[sg.Text('Block 4', font='Any 20')],\n",
    "            [sg.T('This is some random text')],\n",
    "            [sg.T('This is some random text')],\n",
    "            [sg.T('This is some random text')],\n",
    "            [sg.T('This is some random text')]]\n",
    "\n",
    "\n",
    "layout = [[sg.Column(top_banner, size=(960, 60), pad=(0,0), background_color=DARK_HEADER_COLOR)],\n",
    "          [sg.Column(top, size=(920, 90), pad=BPAD_TOP)],\n",
    "          [sg.Column([[sg.Column(block_2, size=(450,150), pad=BPAD_LEFT_INSIDE)],\n",
    "                      [sg.Column(block_3, size=(450,150),  pad=BPAD_LEFT_INSIDE)]], pad=BPAD_LEFT, background_color=BORDER_COLOR),\n",
    "           sg.Column(block_4, size=(450, 320), pad=BPAD_RIGHT)]]\n",
    "\n",
    "window = sg.Window('Dashboard PySimpleGUI-Style', layout, margins=(0,0), background_color=BORDER_COLOR, no_titlebar=True, grab_anywhere=True)\n",
    "\n",
    "while True:             # Event Loop\n",
    "    event, values = window.read()\n",
    "    if event == sg.WIN_CLOSED or event == 'Exit':\n",
    "        break\n",
    "window.close()"
   ]
  },
  {
   "cell_type": "code",
   "execution_count": 3,
   "metadata": {},
   "outputs": [
    {
     "ename": "NameError",
     "evalue": "name 'sg' is not defined",
     "output_type": "error",
     "traceback": [
      "\u001b[1;31m---------------------------------------------------------------------------\u001b[0m",
      "\u001b[1;31mNameError\u001b[0m                                 Traceback (most recent call last)",
      "\u001b[1;32mc:\\Users\\juano\\Documents\\Master MBD\\Segundo_Cuatrimestre\\Datos no estructurados\\RepoGit\\FaceDetection\\CarasJuan.ipynb Cell 3\u001b[0m in \u001b[0;36m<cell line: 28>\u001b[1;34m()\u001b[0m\n\u001b[0;32m     <a href='vscode-notebook-cell:/c%3A/Users/juano/Documents/Master%20MBD/Segundo_Cuatrimestre/Datos%20no%20estructurados/RepoGit/FaceDetection/CarasJuan.ipynb#W2sZmlsZQ%3D%3D?line=23'>24</a>\u001b[0m         window[\u001b[39m\"\u001b[39m\u001b[39m-IMAGE-\u001b[39m\u001b[39m\"\u001b[39m]\u001b[39m.\u001b[39mupdate(data\u001b[39m=\u001b[39mimgbytes)\n\u001b[0;32m     <a href='vscode-notebook-cell:/c%3A/Users/juano/Documents/Master%20MBD/Segundo_Cuatrimestre/Datos%20no%20estructurados/RepoGit/FaceDetection/CarasJuan.ipynb#W2sZmlsZQ%3D%3D?line=25'>26</a>\u001b[0m     window\u001b[39m.\u001b[39mclose()\n\u001b[1;32m---> <a href='vscode-notebook-cell:/c%3A/Users/juano/Documents/Master%20MBD/Segundo_Cuatrimestre/Datos%20no%20estructurados/RepoGit/FaceDetection/CarasJuan.ipynb#W2sZmlsZQ%3D%3D?line=27'>28</a>\u001b[0m main()\n",
      "\u001b[1;32mc:\\Users\\juano\\Documents\\Master MBD\\Segundo_Cuatrimestre\\Datos no estructurados\\RepoGit\\FaceDetection\\CarasJuan.ipynb Cell 3\u001b[0m in \u001b[0;36mmain\u001b[1;34m()\u001b[0m\n\u001b[0;32m      <a href='vscode-notebook-cell:/c%3A/Users/juano/Documents/Master%20MBD/Segundo_Cuatrimestre/Datos%20no%20estructurados/RepoGit/FaceDetection/CarasJuan.ipynb#W2sZmlsZQ%3D%3D?line=0'>1</a>\u001b[0m \u001b[39mdef\u001b[39;00m \u001b[39mmain\u001b[39m():\n\u001b[1;32m----> <a href='vscode-notebook-cell:/c%3A/Users/juano/Documents/Master%20MBD/Segundo_Cuatrimestre/Datos%20no%20estructurados/RepoGit/FaceDetection/CarasJuan.ipynb#W2sZmlsZQ%3D%3D?line=1'>2</a>\u001b[0m     sg\u001b[39m.\u001b[39mtheme(\u001b[39m\"\u001b[39m\u001b[39mdark grey 9\u001b[39m\u001b[39m\"\u001b[39m)\n\u001b[0;32m      <a href='vscode-notebook-cell:/c%3A/Users/juano/Documents/Master%20MBD/Segundo_Cuatrimestre/Datos%20no%20estructurados/RepoGit/FaceDetection/CarasJuan.ipynb#W2sZmlsZQ%3D%3D?line=3'>4</a>\u001b[0m     \u001b[39m# Define the window layout\u001b[39;00m\n\u001b[0;32m      <a href='vscode-notebook-cell:/c%3A/Users/juano/Documents/Master%20MBD/Segundo_Cuatrimestre/Datos%20no%20estructurados/RepoGit/FaceDetection/CarasJuan.ipynb#W2sZmlsZQ%3D%3D?line=4'>5</a>\u001b[0m     layout \u001b[39m=\u001b[39m [\n\u001b[0;32m      <a href='vscode-notebook-cell:/c%3A/Users/juano/Documents/Master%20MBD/Segundo_Cuatrimestre/Datos%20no%20estructurados/RepoGit/FaceDetection/CarasJuan.ipynb#W2sZmlsZQ%3D%3D?line=5'>6</a>\u001b[0m         [sg\u001b[39m.\u001b[39mText(\u001b[39m\"\u001b[39m\u001b[39mOpenCV Demo\u001b[39m\u001b[39m\"\u001b[39m, size\u001b[39m=\u001b[39m(\u001b[39m60\u001b[39m, \u001b[39m1\u001b[39m), justification\u001b[39m=\u001b[39m\u001b[39m\"\u001b[39m\u001b[39mcenter\u001b[39m\u001b[39m\"\u001b[39m)],\n\u001b[0;32m      <a href='vscode-notebook-cell:/c%3A/Users/juano/Documents/Master%20MBD/Segundo_Cuatrimestre/Datos%20no%20estructurados/RepoGit/FaceDetection/CarasJuan.ipynb#W2sZmlsZQ%3D%3D?line=6'>7</a>\u001b[0m         [sg\u001b[39m.\u001b[39mImage(filename\u001b[39m=\u001b[39m\u001b[39m\"\u001b[39m\u001b[39m\"\u001b[39m, key\u001b[39m=\u001b[39m\u001b[39m\"\u001b[39m\u001b[39m-IMAGE-\u001b[39m\u001b[39m\"\u001b[39m)],\n\u001b[0;32m      <a href='vscode-notebook-cell:/c%3A/Users/juano/Documents/Master%20MBD/Segundo_Cuatrimestre/Datos%20no%20estructurados/RepoGit/FaceDetection/CarasJuan.ipynb#W2sZmlsZQ%3D%3D?line=7'>8</a>\u001b[0m         [sg\u001b[39m.\u001b[39mRadio(\u001b[39m\"\u001b[39m\u001b[39mNone\u001b[39m\u001b[39m\"\u001b[39m, \u001b[39m\"\u001b[39m\u001b[39mRadio\u001b[39m\u001b[39m\"\u001b[39m, \u001b[39mTrue\u001b[39;00m, size\u001b[39m=\u001b[39m(\u001b[39m10\u001b[39m, \u001b[39m1\u001b[39m))],\n\u001b[0;32m      <a href='vscode-notebook-cell:/c%3A/Users/juano/Documents/Master%20MBD/Segundo_Cuatrimestre/Datos%20no%20estructurados/RepoGit/FaceDetection/CarasJuan.ipynb#W2sZmlsZQ%3D%3D?line=8'>9</a>\u001b[0m         [sg\u001b[39m.\u001b[39mButton(\u001b[39m\"\u001b[39m\u001b[39mExit\u001b[39m\u001b[39m\"\u001b[39m, size\u001b[39m=\u001b[39m(\u001b[39m10\u001b[39m, \u001b[39m1\u001b[39m))],\n\u001b[0;32m     <a href='vscode-notebook-cell:/c%3A/Users/juano/Documents/Master%20MBD/Segundo_Cuatrimestre/Datos%20no%20estructurados/RepoGit/FaceDetection/CarasJuan.ipynb#W2sZmlsZQ%3D%3D?line=9'>10</a>\u001b[0m     ]\n",
      "\u001b[1;31mNameError\u001b[0m: name 'sg' is not defined"
     ]
    }
   ],
   "source": [
    "def main():\n",
    "    sg.theme(\"dark grey 9\")\n",
    "\n",
    "    # Define the window layout\n",
    "    layout = [\n",
    "        [sg.Text(\"OpenCV Demo\", size=(60, 1), justification=\"center\")],\n",
    "        [sg.Image(filename=\"\", key=\"-IMAGE-\")],\n",
    "        [sg.Radio(\"None\", \"Radio\", True, size=(10, 1))],\n",
    "        [sg.Button(\"Exit\", size=(10, 1))],\n",
    "    ]\n",
    "\n",
    "    # Create the window and show it without the plot\n",
    "    window = sg.Window(\"OpenCV Integration\", layout, location=(800, 400))\n",
    "\n",
    "    cap = cv2.VideoCapture(0)\n",
    "\n",
    "    while True:\n",
    "        event, values = window.read(timeout=20)\n",
    "        if event == \"Exit\" or event == sg.WIN_CLOSED:\n",
    "            break\n",
    "\n",
    "        ret, frame = cap.read()\n",
    "        imgbytes = cv2.imencode(\".png\", frame)[1].tobytes()\n",
    "        window[\"-IMAGE-\"].update(data=imgbytes)\n",
    "\n",
    "    window.close()\n",
    "\n",
    "main()"
   ]
  },
  {
   "cell_type": "code",
   "execution_count": 5,
   "metadata": {},
   "outputs": [],
   "source": [
    "import sys\n",
    "import os.path\n",
    "import csv\n",
    "def CreateCsv(csvLine):  \n",
    "    \n",
    "    BASE_PATH=csvLine\n",
    "    SEPARATOR=\",\"\n",
    "\n",
    "    label = 0\n",
    "    with open(\"face_dataset.csv\", \"w\") as file:\n",
    "        writer = csv.writer(file)\n",
    "        for dirname, dirnames, filenames in os.walk(BASE_PATH):\n",
    "            for subdirname in dirnames:\n",
    "                subject_path = os.path.join(dirname, subdirname)\n",
    "                for filename in os.listdir(subject_path):\n",
    "                    abs_path = \"%s/%s\" % (subject_path, filename)\n",
    "                    csv_line = \"%s%s%d\" % (abs_path, SEPARATOR, label)\n",
    "                    print (csv_line)\t    \t\t\n",
    "                    writer.writerows([csv_line.split(',')])\n",
    "                label = label + 1"
   ]
  },
  {
   "cell_type": "code",
   "execution_count": null,
   "metadata": {},
   "outputs": [],
   "source": []
  }
 ],
 "metadata": {
  "kernelspec": {
   "display_name": "ml",
   "language": "python",
   "name": "python3"
  },
  "language_info": {
   "codemirror_mode": {
    "name": "ipython",
    "version": 3
   },
   "file_extension": ".py",
   "mimetype": "text/x-python",
   "name": "python",
   "nbconvert_exporter": "python",
   "pygments_lexer": "ipython3",
   "version": "3.10.4"
  },
  "orig_nbformat": 4
 },
 "nbformat": 4,
 "nbformat_minor": 2
}
