{
 "cells": [
  {
   "cell_type": "code",
   "execution_count": 1,
   "metadata": {},
   "outputs": [],
   "source": [
    "# Imports"
   ]
  },
  {
   "cell_type": "code",
   "execution_count": 2,
   "metadata": {},
   "outputs": [],
   "source": [
    "# Script caputura de video"
   ]
  },
  {
   "cell_type": "code",
   "execution_count": 3,
   "metadata": {},
   "outputs": [],
   "source": [
    "# Script con Interfaz grafica"
   ]
  },
  {
   "cell_type": "code",
   "execution_count": 15,
   "metadata": {},
   "outputs": [],
   "source": [
    "import sys\n",
    "import os.path\n",
    "import csv\n",
    "import os\n",
    "from glob import glob\n",
    "import sklearn.model_selection\n",
    "import shutil\n",
    "pathFiles=\"./data/\"\n",
    "def CreateCsv(csvLine):  \n",
    "    print(\"print\")\n",
    "# Files=os.listdir(pathFiles+'JuanO')\n",
    "dirnames= [name for name in os.listdir(\"./data\")]\n",
    "for i in dirnames:\n",
    "    src_dir = \".\"\n",
    "    dst_dir = \"./test/\"+i\n",
    "    files = [filename for filename in os.listdir('.') if filename.startswith(\"test\"+i)]\n",
    "    for filename in files:\n",
    "        shutil.copy(filename, dst_dir)\n",
    "    dst_dir = \"./training/\"+i\n",
    "    files = [filename for filename in os.listdir('.') if filename.startswith(\"training\"+i)]\n",
    "    for filename in files:\n",
    "        shutil.copy(filename, dst_dir)\n"
   ]
  },
  {
   "cell_type": "code",
   "execution_count": null,
   "metadata": {},
   "outputs": [],
   "source": [
    "CreateCsv(\"C:/Users/juano/Documents/Master MBD/Segundo_Cuatrimestre/Datos no estructurados/RepoGit/FaceDetection/data/\")"
   ]
  },
  {
   "cell_type": "code",
   "execution_count": 6,
   "metadata": {},
   "outputs": [
    {
     "name": "stdout",
     "output_type": "stream",
     "text": [
      "2.10.0\n"
     ]
    },
    {
     "ename": "FileNotFoundError",
     "evalue": "[WinError 3] El sistema no puede encontrar la ruta especificada: 'training_set'",
     "output_type": "error",
     "traceback": [
      "\u001b[1;31m---------------------------------------------------------------------------\u001b[0m",
      "\u001b[1;31mFileNotFoundError\u001b[0m                         Traceback (most recent call last)",
      "\u001b[1;32mc:\\Users\\juano\\Documents\\Master MBD\\Segundo_Cuatrimestre\\Datos no estructurados\\RepoGit\\FaceDetection\\CarasJuan.ipynb Cell 5\u001b[0m in \u001b[0;36m<cell line: 18>\u001b[1;34m()\u001b[0m\n\u001b[0;32m     <a href='vscode-notebook-cell:/c%3A/Users/juano/Documents/Master%20MBD/Segundo_Cuatrimestre/Datos%20no%20estructurados/RepoGit/FaceDetection/CarasJuan.ipynb#W3sZmlsZQ%3D%3D?line=10'>11</a>\u001b[0m train_datagen \u001b[39m=\u001b[39m ImageDataGenerator(\n\u001b[0;32m     <a href='vscode-notebook-cell:/c%3A/Users/juano/Documents/Master%20MBD/Segundo_Cuatrimestre/Datos%20no%20estructurados/RepoGit/FaceDetection/CarasJuan.ipynb#W3sZmlsZQ%3D%3D?line=11'>12</a>\u001b[0m         \u001b[39m# reducing/normalizing the pixels\u001b[39;00m\n\u001b[0;32m     <a href='vscode-notebook-cell:/c%3A/Users/juano/Documents/Master%20MBD/Segundo_Cuatrimestre/Datos%20no%20estructurados/RepoGit/FaceDetection/CarasJuan.ipynb#W3sZmlsZQ%3D%3D?line=12'>13</a>\u001b[0m         rescale\u001b[39m=\u001b[39m\u001b[39m1.\u001b[39m\u001b[39m/\u001b[39m\u001b[39m255\u001b[39m,\n\u001b[0;32m     <a href='vscode-notebook-cell:/c%3A/Users/juano/Documents/Master%20MBD/Segundo_Cuatrimestre/Datos%20no%20estructurados/RepoGit/FaceDetection/CarasJuan.ipynb#W3sZmlsZQ%3D%3D?line=13'>14</a>\u001b[0m         shear_range\u001b[39m=\u001b[39m\u001b[39m0.2\u001b[39m,\n\u001b[0;32m     <a href='vscode-notebook-cell:/c%3A/Users/juano/Documents/Master%20MBD/Segundo_Cuatrimestre/Datos%20no%20estructurados/RepoGit/FaceDetection/CarasJuan.ipynb#W3sZmlsZQ%3D%3D?line=14'>15</a>\u001b[0m         zoom_range\u001b[39m=\u001b[39m\u001b[39m0.2\u001b[39m,\n\u001b[0;32m     <a href='vscode-notebook-cell:/c%3A/Users/juano/Documents/Master%20MBD/Segundo_Cuatrimestre/Datos%20no%20estructurados/RepoGit/FaceDetection/CarasJuan.ipynb#W3sZmlsZQ%3D%3D?line=15'>16</a>\u001b[0m         horizontal_flip\u001b[39m=\u001b[39m\u001b[39mTrue\u001b[39;00m)\n\u001b[0;32m     <a href='vscode-notebook-cell:/c%3A/Users/juano/Documents/Master%20MBD/Segundo_Cuatrimestre/Datos%20no%20estructurados/RepoGit/FaceDetection/CarasJuan.ipynb#W3sZmlsZQ%3D%3D?line=16'>17</a>\u001b[0m \u001b[39m#connecting the image augmentation tool to our dataset\u001b[39;00m\n\u001b[1;32m---> <a href='vscode-notebook-cell:/c%3A/Users/juano/Documents/Master%20MBD/Segundo_Cuatrimestre/Datos%20no%20estructurados/RepoGit/FaceDetection/CarasJuan.ipynb#W3sZmlsZQ%3D%3D?line=17'>18</a>\u001b[0m train_set \u001b[39m=\u001b[39m train_datagen\u001b[39m.\u001b[39;49mflow_from_directory(\n\u001b[0;32m     <a href='vscode-notebook-cell:/c%3A/Users/juano/Documents/Master%20MBD/Segundo_Cuatrimestre/Datos%20no%20estructurados/RepoGit/FaceDetection/CarasJuan.ipynb#W3sZmlsZQ%3D%3D?line=18'>19</a>\u001b[0m         \u001b[39m'\u001b[39;49m\u001b[39mtraining_set\u001b[39;49m\u001b[39m'\u001b[39;49m,\n\u001b[0;32m     <a href='vscode-notebook-cell:/c%3A/Users/juano/Documents/Master%20MBD/Segundo_Cuatrimestre/Datos%20no%20estructurados/RepoGit/FaceDetection/CarasJuan.ipynb#W3sZmlsZQ%3D%3D?line=19'>20</a>\u001b[0m         \u001b[39m#final size of the images that will be fed into the ann\u001b[39;49;00m\n\u001b[0;32m     <a href='vscode-notebook-cell:/c%3A/Users/juano/Documents/Master%20MBD/Segundo_Cuatrimestre/Datos%20no%20estructurados/RepoGit/FaceDetection/CarasJuan.ipynb#W3sZmlsZQ%3D%3D?line=20'>21</a>\u001b[0m         target_size\u001b[39m=\u001b[39;49m(\u001b[39m64\u001b[39;49m, \u001b[39m64\u001b[39;49m),\n\u001b[0;32m     <a href='vscode-notebook-cell:/c%3A/Users/juano/Documents/Master%20MBD/Segundo_Cuatrimestre/Datos%20no%20estructurados/RepoGit/FaceDetection/CarasJuan.ipynb#W3sZmlsZQ%3D%3D?line=21'>22</a>\u001b[0m         \u001b[39m# number of images that we want to have in each batch\u001b[39;49;00m\n\u001b[0;32m     <a href='vscode-notebook-cell:/c%3A/Users/juano/Documents/Master%20MBD/Segundo_Cuatrimestre/Datos%20no%20estructurados/RepoGit/FaceDetection/CarasJuan.ipynb#W3sZmlsZQ%3D%3D?line=22'>23</a>\u001b[0m         batch_size\u001b[39m=\u001b[39;49m\u001b[39m32\u001b[39;49m,\n\u001b[0;32m     <a href='vscode-notebook-cell:/c%3A/Users/juano/Documents/Master%20MBD/Segundo_Cuatrimestre/Datos%20no%20estructurados/RepoGit/FaceDetection/CarasJuan.ipynb#W3sZmlsZQ%3D%3D?line=23'>24</a>\u001b[0m         \u001b[39m# we have binary classification --> binary class mode\u001b[39;49;00m\n\u001b[0;32m     <a href='vscode-notebook-cell:/c%3A/Users/juano/Documents/Master%20MBD/Segundo_Cuatrimestre/Datos%20no%20estructurados/RepoGit/FaceDetection/CarasJuan.ipynb#W3sZmlsZQ%3D%3D?line=24'>25</a>\u001b[0m         class_mode\u001b[39m=\u001b[39;49m\u001b[39m'\u001b[39;49m\u001b[39mcategorical\u001b[39;49m\u001b[39m'\u001b[39;49m)\n\u001b[0;32m     <a href='vscode-notebook-cell:/c%3A/Users/juano/Documents/Master%20MBD/Segundo_Cuatrimestre/Datos%20no%20estructurados/RepoGit/FaceDetection/CarasJuan.ipynb#W3sZmlsZQ%3D%3D?line=27'>28</a>\u001b[0m \u001b[39m#only rescaling but no transformations\u001b[39;00m\n\u001b[0;32m     <a href='vscode-notebook-cell:/c%3A/Users/juano/Documents/Master%20MBD/Segundo_Cuatrimestre/Datos%20no%20estructurados/RepoGit/FaceDetection/CarasJuan.ipynb#W3sZmlsZQ%3D%3D?line=28'>29</a>\u001b[0m test_datagen \u001b[39m=\u001b[39m ImageDataGenerator(rescale\u001b[39m=\u001b[39m\u001b[39m1.\u001b[39m\u001b[39m/\u001b[39m\u001b[39m255\u001b[39m)\n",
      "File \u001b[1;32mc:\\Users\\juano\\anaconda3\\envs\\ml\\lib\\site-packages\\keras\\preprocessing\\image.py:1650\u001b[0m, in \u001b[0;36mImageDataGenerator.flow_from_directory\u001b[1;34m(self, directory, target_size, color_mode, classes, class_mode, batch_size, shuffle, seed, save_to_dir, save_prefix, save_format, follow_links, subset, interpolation, keep_aspect_ratio)\u001b[0m\n\u001b[0;32m   1564\u001b[0m \u001b[39mdef\u001b[39;00m \u001b[39mflow_from_directory\u001b[39m(\n\u001b[0;32m   1565\u001b[0m     \u001b[39mself\u001b[39m,\n\u001b[0;32m   1566\u001b[0m     directory,\n\u001b[1;32m   (...)\u001b[0m\n\u001b[0;32m   1580\u001b[0m     keep_aspect_ratio\u001b[39m=\u001b[39m\u001b[39mFalse\u001b[39;00m,\n\u001b[0;32m   1581\u001b[0m ):\n\u001b[0;32m   1582\u001b[0m     \u001b[39m\"\"\"Takes the path to a directory & generates batches of augmented data.\u001b[39;00m\n\u001b[0;32m   1583\u001b[0m \n\u001b[0;32m   1584\u001b[0m \u001b[39m    Args:\u001b[39;00m\n\u001b[1;32m   (...)\u001b[0m\n\u001b[0;32m   1648\u001b[0m \u001b[39m            and `y` is a numpy array of corresponding labels.\u001b[39;00m\n\u001b[0;32m   1649\u001b[0m \u001b[39m    \"\"\"\u001b[39;00m\n\u001b[1;32m-> 1650\u001b[0m     \u001b[39mreturn\u001b[39;00m DirectoryIterator(\n\u001b[0;32m   1651\u001b[0m         directory,\n\u001b[0;32m   1652\u001b[0m         \u001b[39mself\u001b[39;49m,\n\u001b[0;32m   1653\u001b[0m         target_size\u001b[39m=\u001b[39;49mtarget_size,\n\u001b[0;32m   1654\u001b[0m         color_mode\u001b[39m=\u001b[39;49mcolor_mode,\n\u001b[0;32m   1655\u001b[0m         keep_aspect_ratio\u001b[39m=\u001b[39;49mkeep_aspect_ratio,\n\u001b[0;32m   1656\u001b[0m         classes\u001b[39m=\u001b[39;49mclasses,\n\u001b[0;32m   1657\u001b[0m         class_mode\u001b[39m=\u001b[39;49mclass_mode,\n\u001b[0;32m   1658\u001b[0m         data_format\u001b[39m=\u001b[39;49m\u001b[39mself\u001b[39;49m\u001b[39m.\u001b[39;49mdata_format,\n\u001b[0;32m   1659\u001b[0m         batch_size\u001b[39m=\u001b[39;49mbatch_size,\n\u001b[0;32m   1660\u001b[0m         shuffle\u001b[39m=\u001b[39;49mshuffle,\n\u001b[0;32m   1661\u001b[0m         seed\u001b[39m=\u001b[39;49mseed,\n\u001b[0;32m   1662\u001b[0m         save_to_dir\u001b[39m=\u001b[39;49msave_to_dir,\n\u001b[0;32m   1663\u001b[0m         save_prefix\u001b[39m=\u001b[39;49msave_prefix,\n\u001b[0;32m   1664\u001b[0m         save_format\u001b[39m=\u001b[39;49msave_format,\n\u001b[0;32m   1665\u001b[0m         follow_links\u001b[39m=\u001b[39;49mfollow_links,\n\u001b[0;32m   1666\u001b[0m         subset\u001b[39m=\u001b[39;49msubset,\n\u001b[0;32m   1667\u001b[0m         interpolation\u001b[39m=\u001b[39;49minterpolation,\n\u001b[0;32m   1668\u001b[0m         dtype\u001b[39m=\u001b[39;49m\u001b[39mself\u001b[39;49m\u001b[39m.\u001b[39;49mdtype,\n\u001b[0;32m   1669\u001b[0m     )\n",
      "File \u001b[1;32mc:\\Users\\juano\\anaconda3\\envs\\ml\\lib\\site-packages\\keras\\preprocessing\\image.py:563\u001b[0m, in \u001b[0;36mDirectoryIterator.__init__\u001b[1;34m(self, directory, image_data_generator, target_size, color_mode, classes, class_mode, batch_size, shuffle, seed, data_format, save_to_dir, save_prefix, save_format, follow_links, subset, interpolation, keep_aspect_ratio, dtype)\u001b[0m\n\u001b[0;32m    561\u001b[0m \u001b[39mif\u001b[39;00m \u001b[39mnot\u001b[39;00m classes:\n\u001b[0;32m    562\u001b[0m     classes \u001b[39m=\u001b[39m []\n\u001b[1;32m--> 563\u001b[0m     \u001b[39mfor\u001b[39;00m subdir \u001b[39min\u001b[39;00m \u001b[39msorted\u001b[39m(os\u001b[39m.\u001b[39;49mlistdir(directory)):\n\u001b[0;32m    564\u001b[0m         \u001b[39mif\u001b[39;00m os\u001b[39m.\u001b[39mpath\u001b[39m.\u001b[39misdir(os\u001b[39m.\u001b[39mpath\u001b[39m.\u001b[39mjoin(directory, subdir)):\n\u001b[0;32m    565\u001b[0m             classes\u001b[39m.\u001b[39mappend(subdir)\n",
      "\u001b[1;31mFileNotFoundError\u001b[0m: [WinError 3] El sistema no puede encontrar la ruta especificada: 'training_set'"
     ]
    }
   ],
   "source": [
    "import tensorflow as tf\n",
    "from keras.preprocessing.image import ImageDataGenerator\n",
    "from keras.preprocessing import image\n",
    "import numpy as np\n",
    "\n",
    "print(tf.__version__)\n",
    "\n",
    "#--------------------- Data Preprocessing --------------------#\n",
    "\n",
    "#feature training\n",
    "train_datagen = ImageDataGenerator(\n",
    "        # reducing/normalizing the pixels\n",
    "        rescale=1./255,\n",
    "        shear_range=0.2,\n",
    "        zoom_range=0.2,\n",
    "        horizontal_flip=True)\n",
    "#connecting the image augmentation tool to our dataset\n",
    "train_set = train_datagen.flow_from_directory(\n",
    "        'training_set',\n",
    "        #final size of the images that will be fed into the ann\n",
    "        target_size=(112, 112),\n",
    "        # number of images that we want to have in each batch\n",
    "        batch_size=32,\n",
    "        # we have binary classification --> binary class mode\n",
    "        class_mode='categorical')\n",
    "\n",
    "\n",
    "#only rescaling but no transformations\n",
    "test_datagen = ImageDataGenerator(rescale=1./255)\n",
    "#connecting to the test data\n",
    "test_set = test_datagen.flow_from_directory(\n",
    "        'test_set',\n",
    "        target_size=(112, 112),\n",
    "        batch_size=32,\n",
    "        class_mode='binary')\n",
    "\n",
    "print(test_set)"
   ]
  },
  {
   "cell_type": "code",
   "execution_count": null,
   "metadata": {},
   "outputs": [],
   "source": [
    "#--------------------- Building CNN --------------------#\n",
    "# initializing CNN as sequential layers\n",
    "cnn = tf.keras.models.Sequential()\n",
    "\n",
    "# Step 1: Convolution to get the Feature Map\n",
    "cnn.add(tf.keras.layers.Conv2D(filters = 32, kernel_size = 3, activation = 'relu', input_shape=[64,64,3]))\n",
    "\n",
    "# Step 2: Max Pooling\n",
    "cnn.add(tf.keras.layers.MaxPool2D(pool_size=2 ,strides=2))\n",
    "#adding a second convolutional layer\n",
    "cnn.add(tf.keras.layers.Conv2D(filters = 32, kernel_size = 3, activation = 'relu'))\n",
    "cnn.add(tf.keras.layers.MaxPool2D(pool_size=2 ,strides=2))\n",
    "\n",
    "# Step 3: Flattening\n",
    "cnn.add(tf.keras.layers.Flatten())\n",
    "\n",
    "# Step 4: Full Connection\n",
    "cnn.add(tf.keras.layers.Dense(units = 128, activation = 'relu'))\n",
    "\n",
    "# Step 5: Output Layer\n",
    "cnn.add(tf.keras.layers.Dense(units = 1, activation = 'sigmoid'))\n",
    "\n",
    "#--------------------- Training the CNN --------------------#\n",
    "#compiling the CNN\n",
    "cnn.compile(optimizer = 'adam', loss = 'binary_crossentropy', metrics = ['accuracy'])\n",
    "#training the CNN on the training set and evaluating it on the test set\n",
    "cnn.fit(x = train_set, validation_data = test_set, epochs = 25)\n",
    "\n",
    "\n",
    "#--------------------- Single prediction with CNN --------------------#\n",
    "test_image = image.load_img('single_prediction/cat_or_dog_1.jpg', target_size = (64, 64))\n",
    "# to convert image in pii format into a numpy array format\n",
    "test_image = image.img_to_array(test_image)\n",
    "# adding extra dimension to put this image into a batch by saying where we want to add this batch (as the first dimension)\n",
    "test_image = np.expand_dims(test_image, axis = 0)\n",
    "# cnn prediction on the test image\n",
    "result = cnn.predict(test_image)\n",
    "# getting the results encoding: which indices correspond to which classes (1: dog, 0:cat)\n",
    "print(train_set.class_indices)\n",
    "\n",
    "#prediction for the single image/element from the batch\n",
    "if result[0][0] == 1:\n",
    "   prediction = 'dog'\n",
    "else:\n",
    "   prediction = 'cat'\n",
    "\n",
    "print(prediction)\n",
    "\n",
    "\n",
    "test_image2 = image.load_img('single_prediction/cat_or_dog_2.jpg', target_size = (64, 64))\n",
    "# to convert image in pii format into a numpy array format\n",
    "test_image2 = image.img_to_array(test_image2)\n",
    "# adding extra dimension to put this image into a batch by saying where we want to add this batch (as the first dimension)\n",
    "test_image2 = np.expand_dims(test_image2, axis = 0)\n",
    "# cnn prediction on the test image\n",
    "result2 = cnn.predict(test_image2)\n",
    "\n",
    "#prediction for the single image/element from the batch\n",
    "if result2[0][0] == 1:\n",
    "   prediction2 = 'dog'\n",
    "else:\n",
    "   prediction2 = 'cat'\n",
    "\n",
    "print(prediction2)"
   ]
  }
 ],
 "metadata": {
  "kernelspec": {
   "display_name": "ml",
   "language": "python",
   "name": "python3"
  },
  "language_info": {
   "codemirror_mode": {
    "name": "ipython",
    "version": 3
   },
   "file_extension": ".py",
   "mimetype": "text/x-python",
   "name": "python",
   "nbconvert_exporter": "python",
   "pygments_lexer": "ipython3",
   "version": "3.10.4"
  },
  "orig_nbformat": 4
 },
 "nbformat": 4,
 "nbformat_minor": 2
}
