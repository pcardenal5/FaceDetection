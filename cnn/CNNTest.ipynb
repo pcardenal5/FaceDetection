{
 "cells": [
  {
   "cell_type": "code",
   "execution_count": 1,
   "metadata": {},
   "outputs": [],
   "source": [
    "import json\n",
    "import tensorflow as tf\n",
    "from keras.preprocessing.image import ImageDataGenerator\n",
    "from keras.preprocessing import image\n",
    "import numpy as np\n",
    "import matplotlib.pyplot as plt\n",
    "from results import Results"
   ]
  },
  {
   "cell_type": "code",
   "execution_count": 4,
   "metadata": {},
   "outputs": [],
   "source": [
    "targetSizeWidth = 112\n",
    "targetSizeHeight = 112\n",
    "targetSize = (targetSizeWidth, targetSizeHeight)\n",
    "batchSize = 32\n",
    "directory_filename='./ModeloPablo20'\n",
    "testDirectory='/data'"
   ]
  },
  {
   "cell_type": "code",
   "execution_count": 5,
   "metadata": {},
   "outputs": [],
   "source": [
    "def load(filename: str):\n",
    "    \"\"\"Loads a trained CNN model and the corresponding preprocessing information.\n",
    "\n",
    "    Args:\n",
    "        filename: Relative path to the file without the extension.\n",
    "\n",
    "    \"\"\"\n",
    "    # Load Keras model\n",
    "    model = tf.keras.models.load_model(filename + '.h5')\n",
    "\n",
    "    # Load base model information\n",
    "    with open(filename + '.json') as f:\n",
    "        model_name = json.load(f)\n",
    "    return model\n",
    "\n",
    "cnn=load(directory_filename)"
   ]
  },
  {
   "cell_type": "code",
   "execution_count": 8,
   "metadata": {},
   "outputs": [],
   "source": [
    "def predict(model,test_dir,dataset_name:str, save: bool = True):\n",
    "    \"\"\"Evaluates a new set of images using the trained CNN.\n",
    "\n",
    "    Args:\n",
    "        test_dir: Relative path to the validation directory (e.g., 'dataset/test').\n",
    "        dataset_name: Dataset descriptive name.\n",
    "        save: Save results to an Excel file.\n",
    "\n",
    "    \"\"\"\n",
    "    # Configure loading and pre-processing functions\n",
    "    print('Reading test data...')\n",
    "    test_datagen = ImageDataGenerator(rescale=1./255)\n",
    "\n",
    "    test_generator = test_datagen.flow_from_directory(\n",
    "        testDirectory,\n",
    "        target_size = targetSize,\n",
    "        batch_size=1,  # A batch size of 1 ensures that all test images are processed\n",
    "        class_mode='categorical',\n",
    "        shuffle=False\n",
    "    )\n",
    "\n",
    "    # Predict categories\n",
    "    predictions =model.predict(test_generator)\n",
    "    print(predictions)\n",
    "    \n",
    "    predicted_labels = np.argmax(predictions, axis=1).ravel().tolist()\n",
    "    print(predicted_labels)\n",
    "    print(type(test_generator.class_indices))\n",
    "   \n",
    "    # Format results and compute classification statistics\n",
    "    results = Results(test_generator.class_indices, dataset_name=dataset_name)\n",
    "    accuracy, confusion_matrix, classification = results.compute(test_generator.filenames, test_generator.classes,\n",
    "                                                                     predicted_labels)\n",
    "    # Display and save results\n",
    "    results.print(accuracy, confusion_matrix)\n",
    "\n",
    "    # if save:\n",
    "    #     results.save(confusion_matrix, classification, predictions)"
   ]
  },
  {
   "cell_type": "code",
   "execution_count": 10,
   "metadata": {},
   "outputs": [
    {
     "name": "stdout",
     "output_type": "stream",
     "text": [
      "Reading test data...\n",
      "Found 723 images belonging to 5 classes.\n",
      "723/723 [==============================] - 5s 8ms/step\n",
      "[[1.4664033e-02 9.1768638e-04 2.8474414e-01 2.7997894e-04 6.6208231e-01]\n",
      " [4.1499091e-03 7.0320959e-05 1.1083528e-01 1.0526854e-04 8.2504642e-01]\n",
      " [1.6074261e-03 1.0198289e-05 5.2513485e-03 1.1873072e-05 9.8888296e-01]\n",
      " ...\n",
      " [4.1128496e-05 6.6380170e-07 9.8421991e-01 1.5979525e-02 4.1207232e-04]\n",
      " [3.6587619e-05 5.5333589e-07 9.7997355e-01 2.1734463e-02 4.9377582e-04]\n",
      " [4.0137882e-05 5.6514347e-07 9.7220707e-01 2.7607296e-02 5.4413028e-04]]\n",
      "[4, 4, 4, 4, 4, 4, 4, 4, 4, 4, 4, 4, 4, 4, 4, 4, 4, 4, 4, 4, 4, 4, 4, 4, 4, 4, 4, 4, 4, 4, 4, 4, 4, 4, 4, 4, 4, 4, 4, 4, 4, 4, 4, 4, 4, 4, 4, 4, 4, 4, 4, 4, 4, 4, 4, 4, 4, 4, 4, 4, 4, 4, 4, 4, 4, 4, 4, 4, 4, 4, 4, 4, 4, 4, 4, 4, 4, 4, 4, 4, 4, 4, 4, 4, 4, 4, 4, 4, 4, 4, 4, 4, 4, 4, 4, 4, 4, 4, 4, 4, 4, 4, 4, 4, 4, 4, 4, 4, 4, 4, 4, 4, 4, 4, 4, 4, 4, 4, 4, 4, 4, 4, 4, 4, 4, 4, 4, 4, 4, 4, 4, 4, 4, 4, 4, 4, 4, 4, 4, 4, 4, 4, 4, 4, 4, 4, 4, 4, 4, 4, 4, 4, 4, 4, 4, 4, 4, 4, 4, 4, 4, 4, 4, 4, 4, 4, 4, 4, 4, 4, 4, 4, 4, 4, 4, 4, 4, 4, 4, 4, 4, 4, 4, 4, 4, 4, 4, 4, 4, 4, 4, 4, 4, 4, 4, 4, 4, 4, 4, 4, 4, 4, 4, 4, 4, 4, 4, 4, 4, 4, 4, 4, 4, 4, 4, 4, 4, 4, 4, 4, 4, 4, 4, 4, 4, 4, 4, 4, 4, 3, 2, 2, 2, 2, 2, 2, 2, 2, 2, 2, 2, 2, 2, 2, 2, 2, 2, 2, 2, 2, 2, 2, 2, 2, 2, 2, 2, 2, 2, 2, 2, 2, 2, 2, 2, 2, 2, 2, 2, 2, 2, 2, 2, 2, 2, 2, 2, 2, 2, 2, 2, 2, 2, 2, 2, 2, 2, 2, 2, 2, 2, 2, 2, 2, 2, 2, 2, 2, 2, 2, 2, 2, 2, 2, 2, 2, 2, 2, 2, 2, 2, 2, 2, 2, 2, 2, 2, 2, 2, 2, 2, 2, 2, 2, 2, 2, 2, 2, 2, 2, 2, 2, 2, 2, 2, 2, 2, 2, 2, 2, 2, 2, 2, 2, 2, 2, 2, 2, 2, 2, 2, 2, 2, 2, 2, 2, 2, 2, 2, 2, 2, 2, 2, 2, 2, 2, 2, 2, 2, 2, 2, 2, 2, 2, 2, 2, 2, 2, 2, 2, 2, 2, 2, 2, 2, 2, 2, 2, 2, 2, 2, 2, 2, 2, 2, 2, 2, 2, 2, 2, 2, 2, 2, 2, 2, 2, 2, 2, 2, 2, 2, 2, 2, 2, 2, 2, 2, 2, 2, 2, 2, 2, 2, 2, 2, 2, 2, 2, 2, 2, 2, 2, 2, 2, 2, 2, 2, 2, 2, 2, 2, 2, 2, 2, 2, 2, 2, 2, 2, 2, 2, 2, 2, 2, 2, 2, 2, 2, 2, 2, 2, 2, 2, 2, 2, 2, 2, 2, 2, 2, 2, 2, 2, 2, 2, 2, 2, 2, 2, 2, 2, 2, 2, 2, 2, 2, 2, 2, 2, 2, 2, 2, 2, 2, 2, 2, 2, 2, 2, 2, 2, 2, 2, 2, 4, 4, 4, 2, 4, 4, 2, 2, 2, 2, 2, 2, 2, 2, 2, 2, 2, 2, 2, 2, 2, 2, 2, 2, 2, 2, 2, 2, 2, 2, 2, 2, 2, 2, 2, 2, 2, 2, 2, 2, 2, 2, 2, 2, 2, 2, 2, 2, 2, 2, 2, 2, 2, 2, 2, 2, 2, 2, 2, 2, 2, 2, 2, 2, 2, 2, 2, 2, 2, 2, 2, 2, 2, 2, 2, 2, 2, 2, 2, 2, 2, 2, 2, 2, 2, 2, 2, 2, 2, 2, 2, 2, 2, 2, 2, 2, 2, 2, 2, 2, 2, 2, 2, 2, 2, 2, 2, 2, 2, 2, 2, 2, 2, 2, 2, 2, 2, 2, 2, 2, 2, 2, 2, 2, 2, 2, 2, 2, 2, 2, 2, 2, 2, 2, 2, 2, 2, 2, 2, 2, 2, 2, 2, 2, 2, 2, 2, 2, 2, 2, 2, 2, 2, 2, 2, 2, 2, 2, 2, 2, 2, 2, 2, 2, 2, 2, 2, 2, 2, 2, 2, 2, 2, 2, 2, 2, 2, 2, 2, 2, 2, 2, 2, 2, 2, 2, 2, 2, 2, 2, 2, 2, 2, 2, 2, 2, 2, 2, 2, 2, 2, 2, 2, 2, 2, 2, 2, 2, 2, 2, 2, 2, 2, 2, 2, 2, 2, 2, 2]\n",
      "<class 'dict'>\n",
      "\n",
      "\n",
      "CLASSIFICATION RESULTS (VALIDATION)\n",
      "\n",
      "Confusion matrix\n",
      "\n",
      "KNOWN/PREDICTED        FaceDetectionDataFull  JuanM  JuanO  Pablo  noFaceData\n",
      "FaceDetectionDataFull                    0.0    0.0    0.0    0.0         0.0\n",
      "JuanM                                    0.0    0.0    0.0    0.0       229.0\n",
      "JuanO                                    0.0    0.0  488.0    1.0         5.0\n",
      "Pablo                                    0.0    0.0    0.0    0.0         0.0\n",
      "noFaceData                               0.0    0.0    0.0    0.0         0.0\n",
      "\n",
      "Accuracy:  0.6749654218533887\n"
     ]
    }
   ],
   "source": [
    "predict(cnn,testDirectory,'validation')"
   ]
  },
  {
   "cell_type": "code",
   "execution_count": null,
   "metadata": {},
   "outputs": [],
   "source": []
  }
 ],
 "metadata": {
  "kernelspec": {
   "display_name": "DtNoStructENV",
   "language": "python",
   "name": "python3"
  },
  "language_info": {
   "codemirror_mode": {
    "name": "ipython",
    "version": 3
   },
   "file_extension": ".py",
   "mimetype": "text/x-python",
   "name": "python",
   "nbconvert_exporter": "python",
   "pygments_lexer": "ipython3",
   "version": "3.10.10"
  },
  "orig_nbformat": 4
 },
 "nbformat": 4,
 "nbformat_minor": 2
}
