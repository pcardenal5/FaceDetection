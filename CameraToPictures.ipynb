{
 "cells": [
  {
   "cell_type": "code",
   "execution_count": 7,
   "metadata": {},
   "outputs": [
    {
     "name": "stdout",
     "output_type": "stream",
     "text": [
      "Las imagenes se guardarán en un directorio ya existente, por lo que se sobreescribirán las ya generadas.\n"
     ]
    }
   ],
   "source": [
    "import cv2\n",
    "import os\n",
    "import numpy as np \n",
    "\n",
    "cv2.namedWindow(\"Camara Frontal\")\n",
    "vc = cv2.VideoCapture(0)\n",
    "\n",
    "if vc.isOpened(): # try to get the first frame\n",
    "    rval, frame = vc.read()\n",
    "else:\n",
    "    rval = False\n",
    "\n",
    "img = frame\n",
    "nombre = 'test' \n",
    "\n",
    "path = f'C:\\\\Users\\\\pcard\\\\OneDrive\\\\Colegio_Uni\\\\Uni\\\\MBD\\\\No estructurados\\\\FaceDetection\\\\data\\\\{nombre}'\n",
    "\n",
    "if not os.path.exists(path):\n",
    "    os.makedirs(path)\n",
    "else:\n",
    "    print('Las imagenes se guardarán en un directorio ya existente, por lo que se sobreescribirán las ya generadas.')\n",
    "\n",
    "redSquare = cv2.imread('C:\\\\Users\\\\pcard\\\\OneDrive\\\\Colegio_Uni\\\\Uni\\\\MBD\\\\No estructurados\\\\FaceDetection\\\\redSquare.png')\n",
    "count = 0\n",
    "while rval:\n",
    "    cv2.imshow(\"Camara Frontal\", img)\n",
    "    count +=1\n",
    "    rval, frame = vc.read()\n",
    "    #redSquare = cv2.resize(redSquare, frame.shape)\n",
    "    #img = cv2.add(redSquare, frame)\n",
    "    key = cv2.waitKey(20)\n",
    "    if key == 27: # exit on ESC\n",
    "        break\n",
    "    y, x, _ = frame.shape\n",
    "    h = 112\n",
    "    w = 112\n",
    "    crop = frame[\n",
    "        int((y-h)/2):int((y+h)/2), \n",
    "        int((x-w)/2):int((x+w)/2),\n",
    "        :]\n",
    "    cv2.imwrite(os.path.join(path , f\"{nombre}{count}.jpg\"), crop)\n",
    "\n",
    "cv2.destroyWindow(\"Camara Frontal\")\n",
    "vc.release()"
   ]
  },
  {
   "cell_type": "code",
   "execution_count": 3,
   "metadata": {},
   "outputs": [],
   "source": [
    "import PySimpleGUI as sg\n",
    "\n",
    "num = 0\n",
    "\n",
    "layout = [\n",
    "    [sg.Text(num, key='xxx')],\n",
    "    [sg.Button(\"hi\")],\n",
    "]\n",
    "\n",
    "window = sg.Window(\"the box\", layout)\n",
    "\n",
    "while True:\n",
    "\n",
    "    event, _ = window.read(timeout = 10)\n",
    "\n",
    "    if event == sg.WIN_CLOSED:\n",
    "        break\n",
    "    elif event == \"hi\":\n",
    "        num += 1\n",
    "        window['xxx'].update(num)\n"
   ]
  }
 ],
 "metadata": {
  "kernelspec": {
   "display_name": "NoEstruc",
   "language": "python",
   "name": "python3"
  },
  "language_info": {
   "codemirror_mode": {
    "name": "ipython",
    "version": 3
   },
   "file_extension": ".py",
   "mimetype": "text/x-python",
   "name": "python",
   "nbconvert_exporter": "python",
   "pygments_lexer": "ipython3",
   "version": "3.9.13"
  },
  "orig_nbformat": 4,
  "vscode": {
   "interpreter": {
    "hash": "a3adcea18f26194ea5172bc2f4e0865951c7d2c459d055e94069d8542095c77c"
   }
  }
 },
 "nbformat": 4,
 "nbformat_minor": 2
}
